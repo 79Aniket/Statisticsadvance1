{
 "cells": [
  {
   "cell_type": "markdown",
   "id": "d49ca5d7-df1a-4f95-aa5e-e541eb425f76",
   "metadata": {},
   "source": [
    "### Q1. What is the Probability density function?"
   ]
  },
  {
   "cell_type": "markdown",
   "id": "4863f9e0-bceb-4cbf-b921-eb8b248cbbd4",
   "metadata": {},
   "source": [
    "## A probability density function  is a function that describes the probability of a continuous random variable taking on a particular value. \n",
    "## The PDF is defined as the area under the curve of the function over the interval of possible values."
   ]
  },
  {
   "cell_type": "code",
   "execution_count": null,
   "id": "7b0459a9-b0f1-4187-baf6-c242cd283873",
   "metadata": {},
   "outputs": [],
   "source": []
  },
  {
   "cell_type": "markdown",
   "id": "98a71afa-afa9-4637-a385-88d8c8186e89",
   "metadata": {},
   "source": [
    "## Q2. What are the types of Probability distribution?"
   ]
  },
  {
   "cell_type": "markdown",
   "id": "0722020e-904c-4feb-b499-25d4091e9bb3",
   "metadata": {},
   "source": [
    "## There are six tpyes of probability distribution\n",
    "## 1.Normal/Gaussian distribution(PDF)\n",
    "## 2.Bernoulli distribution(DMF)\n",
    "## 3.Uniform distribution(PMF)\n",
    "## 4.Poisson distribution(PDF)\n",
    "## 5.Log normal distribution(PDF)\n",
    "## 6.Binomial distribution(PMF)"
   ]
  },
  {
   "cell_type": "code",
   "execution_count": null,
   "id": "428effb8-437d-4de9-96d6-60c654a7979f",
   "metadata": {},
   "outputs": [],
   "source": []
  },
  {
   "cell_type": "markdown",
   "id": "cc58a87e-4afa-4361-8f48-6e1600068801",
   "metadata": {},
   "source": [
    "## Q3. Write a Python function to calculate the probability density function of a normal distribution with\n",
    "## given mean and standard deviation at a given point."
   ]
  },
  {
   "cell_type": "code",
   "execution_count": 8,
   "id": "71909213-9945-4101-b3b5-6d8762f9fdbc",
   "metadata": {},
   "outputs": [],
   "source": [
    "import numpy as np\n",
    "\n",
    "def pdf(x, mean, std):\n",
    " \n",
    "  exponent = -(x - mean)**2 / (2 * std**2)\n",
    "\n",
    "  \n",
    "  return 1 / (np.sqrt(2 * np.pi) * std) * np.exp(exponent)\n"
   ]
  },
  {
   "cell_type": "code",
   "execution_count": 12,
   "id": "f30eea48-55cf-4af7-9937-f0e69abc29da",
   "metadata": {},
   "outputs": [
    {
     "data": {
      "text/plain": [
       "0.07365402806066468"
      ]
     },
     "execution_count": 12,
     "metadata": {},
     "output_type": "execute_result"
    }
   ],
   "source": [
    "import numpy as np\n",
    "\n",
    "mean = 10\n",
    "std = 5\n",
    "\n",
    "x = 12\n",
    "\n",
    "pdf = pdf(x, mean, std)\n",
    "pdf\n"
   ]
  },
  {
   "cell_type": "markdown",
   "id": "d555e290-5633-435c-a415-1185cb52ffa0",
   "metadata": {},
   "source": [
    "## Q5. Generate a random sample of size 1000 from a binomial distribution with probability of success 0.4\n",
    "## and plot a histogram of the results using matplotlib."
   ]
  },
  {
   "cell_type": "code",
   "execution_count": 17,
   "id": "bbdbf25c-7cce-425b-bfb3-a364ea6fce33",
   "metadata": {},
   "outputs": [
    {
     "data": {
      "image/png": "[encoded data removed]",
      "text/plain": [
       "<Figure size 640x480 with 1 Axes>"
      ]
     },
     "metadata": {},
     "output_type": "display_data"
    }
   ],
   "source": [
    "import numpy as np\n",
    "import matplotlib.pyplot as plt\n",
    "\n",
    "\n",
    "n = 1000\n",
    "p = 0.4\n",
    "\n",
    "samples = np.random.binomial(n, p, 1000)\n",
    "\n",
    "# Plot a histogram of the samples\n",
    "plt.hist(samples)\n",
    "\n",
    "# Add a title and labels to the axes\n",
    "plt.title(\"Binomial distribution with p = 0.4\")\n",
    "plt.xlabel(\"Number of successes\")\n",
    "plt.ylabel(\"Number of samples\")\n",
    "\n",
    "# Show the plot\n",
    "plt.show()\n"
   ]
  },
  {
   "cell_type": "code",
   "execution_count": null,
   "id": "32895553-08ae-41d3-a8b5-8af23cb0a30d",
   "metadata": {},
   "outputs": [],
   "source": []
  },
  {
   "cell_type": "markdown",
   "id": "4cc0d4dc-474a-414d-a1c4-f8a1ec84aacd",
   "metadata": {},
   "source": [
    "### Q6. Write a Python function to calculate the cumulative distribution function of a Poisson distribution\n",
    "## with given mean at a given point."
   ]
  },
  {
   "cell_type": "code",
   "execution_count": 6,
   "id": "8f392339-7f85-435f-8184-4e8be16d055b",
   "metadata": {},
   "outputs": [],
   "source": [
    "import numpy as np\n",
    "\n",
    "def cdf_poisson(mean, point):\n",
    " \n",
    "  exponent = -mean * np.log(point)\n",
    "\n",
    "  \n",
    "  return 1 - np.exp(exponent)\n"
   ]
  },
  {
   "cell_type": "code",
   "execution_count": 11,
   "id": "5f124dd6-6a93-40f5-b1e3-5db41572d484",
   "metadata": {},
   "outputs": [
    {
     "data": {
      "text/plain": [
       "0.9958847736625515"
      ]
     },
     "execution_count": 11,
     "metadata": {},
     "output_type": "execute_result"
    }
   ],
   "source": [
    "mean = 5\n",
    "point = 3\n",
    "\n",
    "cdf = cdf_poisson(mean, point)\n",
    "cdf"
   ]
  },
  {
   "cell_type": "code",
   "execution_count": null,
   "id": "4c15fcff-0854-4e24-8c47-7a4a93b5ce5d",
   "metadata": {},
   "outputs": [],
   "source": []
  },
  {
   "cell_type": "markdown",
   "id": "7e1af4df-55a8-4f7a-91fe-e89ab083eb6a",
   "metadata": {},
   "source": [
    "## Q7. How Binomial distribution different from Poisson distribution?"
   ]
  },
  {
   "cell_type": "markdown",
   "id": "dbdc438c-c2b0-40ba-968a-8599f0126391",
   "metadata": {},
   "source": [
    "## BINOMIAL DISTRIBUTION = Binomial distribution is one in which the probability of repeated number of trials are studied , Fixed ,Only two possible outcomes, i.e. success or failure,   Mean > Variance\n",
    "## POISSON DISTRIBUTION = Poisson Distribution gives the count of independent events occur randomly with a given period of time , Infinite ,Unlimited number of possible outcomes ,  Mean = Variance"
   ]
  },
  {
   "cell_type": "code",
   "execution_count": null,
   "id": "269d2280-276d-40c0-911e-838f733ce3f6",
   "metadata": {},
   "outputs": [],
   "source": []
  },
  {
   "cell_type": "markdown",
   "id": "77842581-1afa-42bd-bb0b-f5b227cdb1e5",
   "metadata": {},
   "source": [
    "## Q8. Generate a random sample of size 1000 from a Poisson distribution with mean 5 and calculate the\n",
    "### sample mean and variance."
   ]
  },
  {
   "cell_type": "code",
   "execution_count": 15,
   "id": "a8ba54d0-85cf-4542-a6d8-3d3d528b98a3",
   "metadata": {},
   "outputs": [],
   "source": [
    "import numpy as np\n",
    "mean = 5\n",
    "samples = np.random.poisson(mean, 1000)\n",
    "sample_mean = np.mean(samples)\n",
    "\n",
    "sample_variance = np.var(samples)\n"
   ]
  },
  {
   "cell_type": "code",
   "execution_count": 19,
   "id": "52cc4d01-a072-445f-bfca-f994a4327361",
   "metadata": {},
   "outputs": [
    {
     "data": {
      "text/plain": [
       "4.984"
      ]
     },
     "execution_count": 19,
     "metadata": {},
     "output_type": "execute_result"
    }
   ],
   "source": [
    "sample_mean"
   ]
  },
  {
   "cell_type": "code",
   "execution_count": 20,
   "id": "cc61bca6-12ac-4d41-b786-4bf1140be880",
   "metadata": {},
   "outputs": [
    {
     "data": {
      "text/plain": [
       "4.977743999999999"
      ]
     },
     "execution_count": 20,
     "metadata": {},
     "output_type": "execute_result"
    }
   ],
   "source": [
    "sample_variance"
   ]
  },
  {
   "cell_type": "code",
   "execution_count": null,
   "id": "2ec8c440-743e-44e9-9287-5e366a73510e",
   "metadata": {},
   "outputs": [],
   "source": []
  },
  {
   "cell_type": "code",
   "execution_count": null,
   "id": "bb19dce7-3e5c-41e8-a2a0-f1903dc2c753",
   "metadata": {},
   "outputs": [],
   "source": []
  }
 ],
 "metadata": {
  "kernelspec": {
   "display_name": "Python 3 (ipykernel)",
   "language": "python",
   "name": "python3"
  },
  "language_info": {
   "codemirror_mode": {
    "name": "ipython",
    "version": 3
   },
   "file_extension": ".py",
   "mimetype": "text/x-python",
   "name": "python",
   "nbconvert_exporter": "python",
   "pygments_lexer": "ipython3",
   "version": "3.10.8"
  }
 },
 "nbformat": 4,
 "nbformat_minor": 5
}
